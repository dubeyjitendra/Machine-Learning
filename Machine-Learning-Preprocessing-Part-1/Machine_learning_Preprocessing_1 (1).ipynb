{
 "cells": [
  {
   "cell_type": "markdown",
   "metadata": {},
   "source": [
    "### problem in machine learning are as follows:\n",
    "\n",
    "    1.\tGathering data.\n",
    "    2.\tCleaning data.\n",
    "    3.\tFeature engineering.\n",
    "    4.\tDefining model.\n",
    "    5.\tTraining, testing model and predicting the output.\n"
   ]
  },
  {
   "cell_type": "markdown",
   "metadata": {},
   "source": [
    "1.\tVariable Identification\n",
    "2.\tUnivariate Analysis\n",
    "3.\tBi-variate Analysis\n",
    "4.\tMissing values treatment\n",
    "5.\tOutlier treatment\n",
    "6.\tVariable transformation\n",
    "7.\tVariable creation\n",
    "\n",
    "\n",
    "Variable Identification\n",
    "\n",
    "First, identify Predictor (Input) and Target (output) variables. Next, identify the data type and category of the variables.\n",
    "Let’s understand this step more clearly by taking an example.\n",
    "Example:- Suppose, we want to predict, whether the students will play cricket or not (refer below data set). Here you need to identify predictor variables, target variable, data type of variables and category of variables. "
   ]
  },
  {
   "cell_type": "code",
   "execution_count": null,
   "metadata": {},
   "outputs": [],
   "source": []
  }
 ],
 "metadata": {
  "kernelspec": {
   "display_name": "Python 3",
   "language": "python",
   "name": "python3"
  },
  "language_info": {
   "codemirror_mode": {
    "name": "ipython",
    "version": 3
   },
   "file_extension": ".py",
   "mimetype": "text/x-python",
   "name": "python",
   "nbconvert_exporter": "python",
   "pygments_lexer": "ipython3",
   "version": "3.6.5"
  }
 },
 "nbformat": 4,
 "nbformat_minor": 2
}
